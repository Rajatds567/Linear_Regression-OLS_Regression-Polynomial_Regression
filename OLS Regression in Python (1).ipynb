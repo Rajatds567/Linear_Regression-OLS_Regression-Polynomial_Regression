{
 "cells": [
  {
   "cell_type": "code",
   "execution_count": 1,
   "id": "349ece6a",
   "metadata": {},
   "outputs": [],
   "source": [
    "import statsmodels.api as sm\n",
    "import pandas as pd\n",
    "import numpy as np\n",
    "import matplotlib.pyplot as plt\n"
   ]
  },
  {
   "cell_type": "code",
   "execution_count": 2,
   "id": "c8bb4424",
   "metadata": {},
   "outputs": [],
   "source": [
    "# reading data from the csv\n",
    "data = pd.read_csv('train.csv')\n",
    "\n"
   ]
  },
  {
   "cell_type": "code",
   "execution_count": 3,
   "id": "1b527118",
   "metadata": {},
   "outputs": [
    {
     "data": {
      "text/html": [
       "<div>\n",
       "<style scoped>\n",
       "    .dataframe tbody tr th:only-of-type {\n",
       "        vertical-align: middle;\n",
       "    }\n",
       "\n",
       "    .dataframe tbody tr th {\n",
       "        vertical-align: top;\n",
       "    }\n",
       "\n",
       "    .dataframe thead th {\n",
       "        text-align: right;\n",
       "    }\n",
       "</style>\n",
       "<table border=\"1\" class=\"dataframe\">\n",
       "  <thead>\n",
       "    <tr style=\"text-align: right;\">\n",
       "      <th></th>\n",
       "      <th>x</th>\n",
       "      <th>y</th>\n",
       "    </tr>\n",
       "  </thead>\n",
       "  <tbody>\n",
       "    <tr>\n",
       "      <th>0</th>\n",
       "      <td>77</td>\n",
       "      <td>79.775152</td>\n",
       "    </tr>\n",
       "    <tr>\n",
       "      <th>1</th>\n",
       "      <td>21</td>\n",
       "      <td>23.177279</td>\n",
       "    </tr>\n",
       "    <tr>\n",
       "      <th>2</th>\n",
       "      <td>22</td>\n",
       "      <td>25.609262</td>\n",
       "    </tr>\n",
       "    <tr>\n",
       "      <th>3</th>\n",
       "      <td>20</td>\n",
       "      <td>17.857388</td>\n",
       "    </tr>\n",
       "    <tr>\n",
       "      <th>4</th>\n",
       "      <td>36</td>\n",
       "      <td>41.849864</td>\n",
       "    </tr>\n",
       "  </tbody>\n",
       "</table>\n",
       "</div>"
      ],
      "text/plain": [
       "    x          y\n",
       "0  77  79.775152\n",
       "1  21  23.177279\n",
       "2  22  25.609262\n",
       "3  20  17.857388\n",
       "4  36  41.849864"
      ]
     },
     "execution_count": 3,
     "metadata": {},
     "output_type": "execute_result"
    }
   ],
   "source": [
    "data.head()"
   ]
  },
  {
   "cell_type": "code",
   "execution_count": 4,
   "id": "ae3c417e",
   "metadata": {},
   "outputs": [
    {
     "data": {
      "text/plain": [
       "pandas.core.series.Series"
      ]
     },
     "execution_count": 4,
     "metadata": {},
     "output_type": "execute_result"
    }
   ],
   "source": [
    "type(data['x'])"
   ]
  },
  {
   "cell_type": "code",
   "execution_count": null,
   "id": "b1ee9267",
   "metadata": {},
   "outputs": [],
   "source": [
    "# defining the variables\n",
    "x = data['x'].tolist()\n",
    "y = data['y'].tolist()\n"
   ]
  },
  {
   "cell_type": "code",
   "execution_count": 3,
   "id": "ad24e945",
   "metadata": {},
   "outputs": [
    {
     "name": "stdout",
     "output_type": "stream",
     "text": [
      "                            OLS Regression Results                            \n",
      "==============================================================================\n",
      "Dep. Variable:                      y   R-squared:                       0.989\n",
      "Model:                            OLS   Adj. R-squared:                  0.989\n",
      "Method:                 Least Squares   F-statistic:                 2.709e+04\n",
      "Date:                Tue, 10 Jan 2023   Prob (F-statistic):          1.33e-294\n",
      "Time:                        07:25:37   Log-Likelihood:                -757.98\n",
      "No. Observations:                 300   AIC:                             1520.\n",
      "Df Residuals:                     298   BIC:                             1527.\n",
      "Df Model:                           1                                         \n",
      "Covariance Type:            nonrobust                                         \n",
      "==============================================================================\n",
      "                 coef    std err          t      P>|t|      [0.025      0.975]\n",
      "------------------------------------------------------------------------------\n",
      "const         -0.4618      0.360     -1.284      0.200      -1.169       0.246\n",
      "x1             1.0143      0.006    164.598      0.000       1.002       1.026\n",
      "==============================================================================\n",
      "Omnibus:                        1.034   Durbin-Watson:                   2.006\n",
      "Prob(Omnibus):                  0.596   Jarque-Bera (JB):                0.825\n",
      "Skew:                           0.117   Prob(JB):                        0.662\n",
      "Kurtosis:                       3.104   Cond. No.                         120.\n",
      "==============================================================================\n",
      "\n",
      "Notes:\n",
      "[1] Standard Errors assume that the covariance matrix of the errors is correctly specified.\n"
     ]
    }
   ],
   "source": [
    "# adding the constant term\n",
    "x = sm.add_constant(x)\n",
    "\n",
    "# performing the regression\n",
    "# and fitting the model\n",
    "result = sm.OLS(y, x).fit()\n",
    "\n",
    "# printing the summary table\n",
    "print(result.summary())\n"
   ]
  },
  {
   "cell_type": "code",
   "execution_count": 7,
   "id": "44465be3",
   "metadata": {},
   "outputs": [
    {
     "data": {
      "image/png": "[encoded data removed]",
      "text/plain": [
       "<Figure size 432x288 with 1 Axes>"
      ]
     },
     "metadata": {
      "needs_background": "light"
     },
     "output_type": "display_data"
    }
   ],
   "source": [
    "# plotting the original values\n",
    "x = data['x'].tolist()\n",
    "y = data['y'].tolist()\n",
    "plt.scatter(x, y)\n",
    "\n",
    "# finding the maximum and minimum\n",
    "# values of x, to get the\n",
    "# range of data\n",
    "max_x = data['x'].max()\n",
    "min_x = data['x'].min()\n",
    "\n",
    "# range of values for plotting\n",
    "# the regression line\n",
    "x = np.arange(min_x, max_x, 1)\n",
    "\n",
    "# the substituted equation\n",
    "y = 1.0143 * x - 0.4618\n",
    "\n",
    "# plotting the regression line\n",
    "plt.plot(y,'r')\n",
    "plt.show()"
   ]
  },
  {
   "cell_type": "code",
   "execution_count": null,
   "id": "ff3a1198",
   "metadata": {},
   "outputs": [],
   "source": []
  }
 ],
 "metadata": {
  "kernelspec": {
   "display_name": "Python 3 (ipykernel)",
   "language": "python",
   "name": "python3"
  },
  "language_info": {
   "codemirror_mode": {
    "name": "ipython",
    "version": 3
   },
   "file_extension": ".py",
   "mimetype": "text/x-python",
   "name": "python",
   "nbconvert_exporter": "python",
   "pygments_lexer": "ipython3",
   "version": "3.9.12"
  }
 },
 "nbformat": 4,
 "nbformat_minor": 5
}
